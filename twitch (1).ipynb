{
 "cells": [
  {
   "cell_type": "code",
   "execution_count": 2,
   "id": "5cdb04d2",
   "metadata": {},
   "outputs": [],
   "source": [
    "import pandas as pd\n",
    "import numpy as np\n",
    "import seaborn as sns\n",
    "import matplotlib.pyplot as plt"
   ]
  },
  {
   "cell_type": "code",
   "execution_count": 3,
   "id": "4d9749dc",
   "metadata": {
    "scrolled": true
   },
   "outputs": [
    {
     "data": {
      "text/html": [
       "<div>\n",
       "<style scoped>\n",
       "    .dataframe tbody tr th:only-of-type {\n",
       "        vertical-align: middle;\n",
       "    }\n",
       "\n",
       "    .dataframe tbody tr th {\n",
       "        vertical-align: top;\n",
       "    }\n",
       "\n",
       "    .dataframe thead th {\n",
       "        text-align: right;\n",
       "    }\n",
       "</style>\n",
       "<table border=\"1\" class=\"dataframe\">\n",
       "  <thead>\n",
       "    <tr style=\"text-align: right;\">\n",
       "      <th></th>\n",
       "      <th>views</th>\n",
       "      <th>mature</th>\n",
       "      <th>life_time</th>\n",
       "      <th>numeric_id</th>\n",
       "      <th>dead_account</th>\n",
       "      <th>language</th>\n",
       "      <th>affiliate</th>\n",
       "    </tr>\n",
       "  </thead>\n",
       "  <tbody>\n",
       "    <tr>\n",
       "      <th>0</th>\n",
       "      <td>7879</td>\n",
       "      <td>1</td>\n",
       "      <td>969</td>\n",
       "      <td>0</td>\n",
       "      <td>0</td>\n",
       "      <td>EN</td>\n",
       "      <td>1</td>\n",
       "    </tr>\n",
       "    <tr>\n",
       "      <th>1</th>\n",
       "      <td>500</td>\n",
       "      <td>0</td>\n",
       "      <td>2699</td>\n",
       "      <td>1</td>\n",
       "      <td>0</td>\n",
       "      <td>EN</td>\n",
       "      <td>0</td>\n",
       "    </tr>\n",
       "    <tr>\n",
       "      <th>2</th>\n",
       "      <td>382502</td>\n",
       "      <td>1</td>\n",
       "      <td>3149</td>\n",
       "      <td>2</td>\n",
       "      <td>0</td>\n",
       "      <td>EN</td>\n",
       "      <td>1</td>\n",
       "    </tr>\n",
       "    <tr>\n",
       "      <th>3</th>\n",
       "      <td>386</td>\n",
       "      <td>0</td>\n",
       "      <td>1344</td>\n",
       "      <td>3</td>\n",
       "      <td>0</td>\n",
       "      <td>EN</td>\n",
       "      <td>0</td>\n",
       "    </tr>\n",
       "    <tr>\n",
       "      <th>4</th>\n",
       "      <td>2486</td>\n",
       "      <td>0</td>\n",
       "      <td>1784</td>\n",
       "      <td>4</td>\n",
       "      <td>0</td>\n",
       "      <td>EN</td>\n",
       "      <td>0</td>\n",
       "    </tr>\n",
       "  </tbody>\n",
       "</table>\n",
       "</div>"
      ],
      "text/plain": [
       "    views  mature  life_time  numeric_id  dead_account language  affiliate\n",
       "0    7879       1        969           0             0       EN          1\n",
       "1     500       0       2699           1             0       EN          0\n",
       "2  382502       1       3149           2             0       EN          1\n",
       "3     386       0       1344           3             0       EN          0\n",
       "4    2486       0       1784           4             0       EN          0"
      ]
     },
     "execution_count": 3,
     "metadata": {},
     "output_type": "execute_result"
    }
   ],
   "source": [
    "df = pd.read_csv(\"large_twitch_features.csv\", sep=\";\")\n",
    "df.head()"
   ]
  },
  {
   "cell_type": "markdown",
   "id": "c6c56da5",
   "metadata": {},
   "source": [
    "## "
   ]
  },
  {
   "cell_type": "code",
   "execution_count": 4,
   "id": "278673dc",
   "metadata": {
    "scrolled": true
   },
   "outputs": [
    {
     "data": {
      "text/html": [
       "<div>\n",
       "<style scoped>\n",
       "    .dataframe tbody tr th:only-of-type {\n",
       "        vertical-align: middle;\n",
       "    }\n",
       "\n",
       "    .dataframe tbody tr th {\n",
       "        vertical-align: top;\n",
       "    }\n",
       "\n",
       "    .dataframe thead th {\n",
       "        text-align: right;\n",
       "    }\n",
       "</style>\n",
       "<table border=\"1\" class=\"dataframe\">\n",
       "  <thead>\n",
       "    <tr style=\"text-align: right;\">\n",
       "      <th></th>\n",
       "      <th>language</th>\n",
       "      <th>count</th>\n",
       "    </tr>\n",
       "  </thead>\n",
       "  <tbody>\n",
       "    <tr>\n",
       "      <th>0</th>\n",
       "      <td>EN</td>\n",
       "      <td>124411</td>\n",
       "    </tr>\n",
       "    <tr>\n",
       "      <th>1</th>\n",
       "      <td>DE</td>\n",
       "      <td>9428</td>\n",
       "    </tr>\n",
       "    <tr>\n",
       "      <th>2</th>\n",
       "      <td>FR</td>\n",
       "      <td>6799</td>\n",
       "    </tr>\n",
       "    <tr>\n",
       "      <th>3</th>\n",
       "      <td>ES</td>\n",
       "      <td>5699</td>\n",
       "    </tr>\n",
       "    <tr>\n",
       "      <th>4</th>\n",
       "      <td>RU</td>\n",
       "      <td>4821</td>\n",
       "    </tr>\n",
       "  </tbody>\n",
       "</table>\n",
       "</div>"
      ],
      "text/plain": [
       "  language   count\n",
       "0       EN  124411\n",
       "1       DE    9428\n",
       "2       FR    6799\n",
       "3       ES    5699\n",
       "4       RU    4821"
      ]
     },
     "execution_count": 4,
     "metadata": {},
     "output_type": "execute_result"
    }
   ],
   "source": [
    "language_data = df.groupby('language').size().sort_values(ascending=False).head(5).reset_index(name='count')\n",
    "language_data"
   ]
  },
  {
   "cell_type": "code",
   "execution_count": 5,
   "id": "ccacf0fb",
   "metadata": {
    "scrolled": false
   },
   "outputs": [
    {
     "data": {
      "image/png": "[encoded data removed]",
      "text/plain": [
       "<Figure size 864x432 with 1 Axes>"
      ]
     },
     "metadata": {
      "needs_background": "light"
     },
     "output_type": "display_data"
    }
   ],
   "source": [
    "plt.figure(figsize=(12,6))\n",
    "sns.barplot(x='language',y='count',data=language_data)\n",
    "plt.title('Top 5 languages')\n",
    "plt.xlabel('Language')\n",
    "plt.ylabel('');"
   ]
  },
  {
   "cell_type": "code",
   "execution_count": 6,
   "id": "0b69de89",
   "metadata": {},
   "outputs": [
    {
     "data": {
      "image/png": "[encoded data removed]",
      "text/plain": [
       "<Figure size 432x288 with 1 Axes>"
      ]
     },
     "metadata": {},
     "output_type": "display_data"
    },
    {
     "data": {
      "text/plain": [
       "<Figure size 2304x2304 with 0 Axes>"
      ]
     },
     "metadata": {},
     "output_type": "display_data"
    }
   ],
   "source": [
    "labels = language_data['language']\n",
    "\n",
    "fig, ax = plt.subplots()\n",
    "plt.figure(figsize=(32,32))\n",
    "\n",
    "ax.pie(language_data['count'], labels=labels, autopct='%1.1f%%',  radius=2,textprops={'fontsize':15})\n",
    "ax.set_title('Views by Language')\n",
    "\n",
    "plt.show()"
   ]
  },
  {
   "cell_type": "markdown",
   "id": "2797abfd",
   "metadata": {},
   "source": [
    "## Можно заметить, что пользователей, говорящих на Английском - болшинство"
   ]
  },
  {
   "cell_type": "markdown",
   "id": "ec27456c",
   "metadata": {},
   "source": [
    "## Посчитаем процентное соотношение партнеров и обычных пользователей"
   ]
  },
  {
   "cell_type": "code",
   "execution_count": 7,
   "id": "961dc666",
   "metadata": {},
   "outputs": [
    {
     "data": {
      "text/plain": [
       "0    51.493629\n",
       "1    48.506371\n",
       "Name: affiliate, dtype: float64"
      ]
     },
     "execution_count": 7,
     "metadata": {},
     "output_type": "execute_result"
    }
   ],
   "source": [
    "df['affiliate'].value_counts() / df['affiliate'].value_counts().sum() * 100"
   ]
  },
  {
   "cell_type": "code",
   "execution_count": 8,
   "id": "3be87a94",
   "metadata": {},
   "outputs": [
    {
     "data": {
      "text/plain": [
       "Text(0.5, 1.0, 'Distribution of Affiliate Values')"
      ]
     },
     "execution_count": 8,
     "metadata": {},
     "output_type": "execute_result"
    },
    {
     "data": {
      "image/png": "[encoded data removed]",
      "text/plain": [
       "<Figure size 864x432 with 1 Axes>"
      ]
     },
     "metadata": {},
     "output_type": "display_data"
    }
   ],
   "source": [
    "sns.set_style('whitegrid')\n",
    "fig, ax = plt.subplots(figsize=(12, 6))\n",
    "ax = sns.countplot(x='affiliate', data=df)\n",
    "ax.set_title('Distribution of Affiliate Values')\n",
    "\n",
    "#counts = df['affiliate'].value_counts()\n",
    "#plt.pie(counts, labels=counts.index, autopct='%1.1f%%')\n",
    "#plt.title('Distribution of Affiliate Values')\n",
    "#plt.axis('equal')\n",
    "#plt.show()\n"
   ]
  },
  {
   "cell_type": "markdown",
   "id": "3c0af025",
   "metadata": {},
   "source": [
    "## Посчитаем сумму просмотров у партнеров и обычных пользователей"
   ]
  },
  {
   "cell_type": "code",
   "execution_count": 9,
   "id": "447d2d0d",
   "metadata": {},
   "outputs": [
    {
     "data": {
      "text/plain": [
       "29734119026"
      ]
     },
     "execution_count": 9,
     "metadata": {},
     "output_type": "execute_result"
    }
   ],
   "source": [
    "views_not_affiliate = df.loc[df['affiliate'] == 0, 'views'].sum()\n",
    "views_not_affiliate"
   ]
  },
  {
   "cell_type": "code",
   "execution_count": 10,
   "id": "0d38b6c0",
   "metadata": {},
   "outputs": [
    {
     "data": {
      "text/plain": [
       "1898508098"
      ]
     },
     "execution_count": 10,
     "metadata": {},
     "output_type": "execute_result"
    }
   ],
   "source": [
    "views_affiliate = df.loc[df['affiliate'] == 1, 'views'].sum()\n",
    "views_affiliate"
   ]
  },
  {
   "cell_type": "code",
   "execution_count": 11,
   "id": "7cbc3be0",
   "metadata": {},
   "outputs": [
    {
     "data": {
      "text/plain": [
       "<AxesSubplot:xlabel='affiliate', ylabel='views'>"
      ]
     },
     "execution_count": 11,
     "metadata": {},
     "output_type": "execute_result"
    },
    {
     "data": {
      "image/png": "[encoded data removed]",
      "text/plain": [
       "<Figure size 864x432 with 1 Axes>"
      ]
     },
     "metadata": {},
     "output_type": "display_data"
    }
   ],
   "source": [
    "sns.set_style('whitegrid')\n",
    "fig, ax = plt.subplots(figsize=(12, 6))\n",
    "sns.barplot(x='affiliate', y='views', data=df)"
   ]
  },
  {
   "cell_type": "code",
   "execution_count": 12,
   "id": "680b77fc",
   "metadata": {},
   "outputs": [
    {
     "data": {
      "text/plain": [
       "<Figure size 576x576 with 0 Axes>"
      ]
     },
     "metadata": {},
     "output_type": "display_data"
    },
    {
     "data": {
      "image/png": "[encoded data removed]",
      "text/plain": [
       "<Figure size 432x288 with 1 Axes>"
      ]
     },
     "metadata": {},
     "output_type": "display_data"
    }
   ],
   "source": [
    "sizes = df['affiliate'].value_counts().values\n",
    "labels_dict = {0: 'Not affiliate', 1: 'Affiliate'}\n",
    "labels = [labels_dict[x] for x in df['affiliate'].value_counts().index]\n",
    "colors = ['#ff9999', '#66b3ff']\n",
    "\n",
    "\n",
    "plt.figure(figsize=(8,8))\n",
    "fig, ax = plt.subplots()\n",
    "\n",
    "plt.pie(sizes, labels=labels, autopct='%1.1f%%',colors=colors, radius=2, textprops={'fontsize':15})\n",
    "ax.set_title('Views by affiliate')\n",
    "plt.show()\n"
   ]
  },
  {
   "cell_type": "code",
   "execution_count": 13,
   "id": "e67792a2",
   "metadata": {},
   "outputs": [
    {
     "data": {
      "text/html": [
       "<div>\n",
       "<style scoped>\n",
       "    .dataframe tbody tr th:only-of-type {\n",
       "        vertical-align: middle;\n",
       "    }\n",
       "\n",
       "    .dataframe tbody tr th {\n",
       "        vertical-align: top;\n",
       "    }\n",
       "\n",
       "    .dataframe thead th {\n",
       "        text-align: right;\n",
       "    }\n",
       "</style>\n",
       "<table border=\"1\" class=\"dataframe\">\n",
       "  <thead>\n",
       "    <tr style=\"text-align: right;\">\n",
       "      <th></th>\n",
       "      <th>views</th>\n",
       "      <th>mature</th>\n",
       "      <th>life_time</th>\n",
       "      <th>numeric_id</th>\n",
       "      <th>dead_account</th>\n",
       "      <th>language</th>\n",
       "      <th>affiliate</th>\n",
       "    </tr>\n",
       "  </thead>\n",
       "  <tbody>\n",
       "    <tr>\n",
       "      <th>0</th>\n",
       "      <td>7879</td>\n",
       "      <td>1</td>\n",
       "      <td>969</td>\n",
       "      <td>0</td>\n",
       "      <td>0</td>\n",
       "      <td>EN</td>\n",
       "      <td>1</td>\n",
       "    </tr>\n",
       "    <tr>\n",
       "      <th>1</th>\n",
       "      <td>500</td>\n",
       "      <td>0</td>\n",
       "      <td>2699</td>\n",
       "      <td>1</td>\n",
       "      <td>0</td>\n",
       "      <td>EN</td>\n",
       "      <td>0</td>\n",
       "    </tr>\n",
       "    <tr>\n",
       "      <th>2</th>\n",
       "      <td>382502</td>\n",
       "      <td>1</td>\n",
       "      <td>3149</td>\n",
       "      <td>2</td>\n",
       "      <td>0</td>\n",
       "      <td>EN</td>\n",
       "      <td>1</td>\n",
       "    </tr>\n",
       "    <tr>\n",
       "      <th>3</th>\n",
       "      <td>386</td>\n",
       "      <td>0</td>\n",
       "      <td>1344</td>\n",
       "      <td>3</td>\n",
       "      <td>0</td>\n",
       "      <td>EN</td>\n",
       "      <td>0</td>\n",
       "    </tr>\n",
       "    <tr>\n",
       "      <th>4</th>\n",
       "      <td>2486</td>\n",
       "      <td>0</td>\n",
       "      <td>1784</td>\n",
       "      <td>4</td>\n",
       "      <td>0</td>\n",
       "      <td>EN</td>\n",
       "      <td>0</td>\n",
       "    </tr>\n",
       "  </tbody>\n",
       "</table>\n",
       "</div>"
      ],
      "text/plain": [
       "    views  mature  life_time  numeric_id  dead_account language  affiliate\n",
       "0    7879       1        969           0             0       EN          1\n",
       "1     500       0       2699           1             0       EN          0\n",
       "2  382502       1       3149           2             0       EN          1\n",
       "3     386       0       1344           3             0       EN          0\n",
       "4    2486       0       1784           4             0       EN          0"
      ]
     },
     "execution_count": 13,
     "metadata": {},
     "output_type": "execute_result"
    }
   ],
   "source": [
    "df.head()"
   ]
  },
  {
   "cell_type": "markdown",
   "id": "742d55ac",
   "metadata": {},
   "source": [
    "## Можно заметить, что при большом кол-ве просмотров life_time стремится к 1"
   ]
  },
  {
   "cell_type": "code",
   "execution_count": 14,
   "id": "558cd5cf",
   "metadata": {
    "scrolled": true
   },
   "outputs": [],
   "source": [
    "df_bots = df.groupby('views')['life_time'].size().reset_index()"
   ]
  },
  {
   "cell_type": "code",
   "execution_count": 15,
   "id": "fc5a81d0",
   "metadata": {},
   "outputs": [
    {
     "data": {
      "text/plain": [
       "(0.0, 3.0)"
      ]
     },
     "execution_count": 15,
     "metadata": {},
     "output_type": "execute_result"
    },
    {
     "data": {
      "image/png": "[encoded data removed]",
      "text/plain": [
       "<Figure size 864x432 with 1 Axes>"
      ]
     },
     "metadata": {},
     "output_type": "display_data"
    }
   ],
   "source": [
    "sns.set_style('whitegrid')\n",
    "fig, ax = plt.subplots(figsize=(12, 6))\n",
    "sns.lineplot(x='life_time', y='views', data=df.groupby('views')['life_time'].size().reset_index())\n",
    "ax.set_xlim(0,3)"
   ]
  },
  {
   "cell_type": "code",
   "execution_count": 16,
   "id": "b62139fd",
   "metadata": {},
   "outputs": [
    {
     "data": {
      "text/html": [
       "<div>\n",
       "<style scoped>\n",
       "    .dataframe tbody tr th:only-of-type {\n",
       "        vertical-align: middle;\n",
       "    }\n",
       "\n",
       "    .dataframe tbody tr th {\n",
       "        vertical-align: top;\n",
       "    }\n",
       "\n",
       "    .dataframe thead th {\n",
       "        text-align: right;\n",
       "    }\n",
       "</style>\n",
       "<table border=\"1\" class=\"dataframe\">\n",
       "  <thead>\n",
       "    <tr style=\"text-align: right;\">\n",
       "      <th></th>\n",
       "      <th>views</th>\n",
       "      <th>life_time</th>\n",
       "    </tr>\n",
       "  </thead>\n",
       "  <tbody>\n",
       "    <tr>\n",
       "      <th>379</th>\n",
       "      <td>379</td>\n",
       "      <td>54</td>\n",
       "    </tr>\n",
       "    <tr>\n",
       "      <th>434</th>\n",
       "      <td>434</td>\n",
       "      <td>51</td>\n",
       "    </tr>\n",
       "    <tr>\n",
       "      <th>826</th>\n",
       "      <td>826</td>\n",
       "      <td>51</td>\n",
       "    </tr>\n",
       "    <tr>\n",
       "      <th>307</th>\n",
       "      <td>307</td>\n",
       "      <td>50</td>\n",
       "    </tr>\n",
       "    <tr>\n",
       "      <th>543</th>\n",
       "      <td>543</td>\n",
       "      <td>50</td>\n",
       "    </tr>\n",
       "    <tr>\n",
       "      <th>...</th>\n",
       "      <td>...</td>\n",
       "      <td>...</td>\n",
       "    </tr>\n",
       "    <tr>\n",
       "      <th>27653</th>\n",
       "      <td>42528</td>\n",
       "      <td>1</td>\n",
       "    </tr>\n",
       "    <tr>\n",
       "      <th>27652</th>\n",
       "      <td>42524</td>\n",
       "      <td>1</td>\n",
       "    </tr>\n",
       "    <tr>\n",
       "      <th>27651</th>\n",
       "      <td>42519</td>\n",
       "      <td>1</td>\n",
       "    </tr>\n",
       "    <tr>\n",
       "      <th>27650</th>\n",
       "      <td>42512</td>\n",
       "      <td>1</td>\n",
       "    </tr>\n",
       "    <tr>\n",
       "      <th>47827</th>\n",
       "      <td>384396587</td>\n",
       "      <td>1</td>\n",
       "    </tr>\n",
       "  </tbody>\n",
       "</table>\n",
       "<p>47828 rows × 2 columns</p>\n",
       "</div>"
      ],
      "text/plain": [
       "           views  life_time\n",
       "379          379         54\n",
       "434          434         51\n",
       "826          826         51\n",
       "307          307         50\n",
       "543          543         50\n",
       "...          ...        ...\n",
       "27653      42528          1\n",
       "27652      42524          1\n",
       "27651      42519          1\n",
       "27650      42512          1\n",
       "47827  384396587          1\n",
       "\n",
       "[47828 rows x 2 columns]"
      ]
     },
     "execution_count": 16,
     "metadata": {},
     "output_type": "execute_result"
    }
   ],
   "source": [
    "df_bots.sort_values(by='life_time', ascending=False)"
   ]
  },
  {
   "cell_type": "code",
   "execution_count": 17,
   "id": "cf956f43",
   "metadata": {},
   "outputs": [],
   "source": [
    "ratio = len(df_bots.loc[df_bots['life_time'] > 1]) / len(df_bots.loc[df_bots['life_time'] == 1])"
   ]
  },
  {
   "cell_type": "code",
   "execution_count": 18,
   "id": "15997708",
   "metadata": {},
   "outputs": [
    {
     "data": {
      "text/plain": [
       "Text(0, 0.5, 'Ratio')"
      ]
     },
     "execution_count": 18,
     "metadata": {},
     "output_type": "execute_result"
    },
    {
     "data": {
      "image/png": "[encoded data removed]",
      "text/plain": [
       "<Figure size 864x432 with 1 Axes>"
      ]
     },
     "metadata": {},
     "output_type": "display_data"
    }
   ],
   "source": [
    "fig, ax = plt.subplots(figsize=(12, 6))\n",
    "\n",
    "ax = sns.barplot(x=['> 1', '= 1'], y=[ratio, 1], palette=['blue', 'orange'])\n",
    "# Устанавливаем заголовок графика и названия осей\n",
    "ax.set_title('Ratio with lifetime > 1 and lifetime = 1')\n",
    "ax.set_xlabel('Lifetime')\n",
    "ax.set_ylabel('Ratio')"
   ]
  },
  {
   "cell_type": "markdown",
   "id": "28a15e7c",
   "metadata": {},
   "source": [
    "## Проверим dead_account и life_time"
   ]
  },
  {
   "cell_type": "code",
   "execution_count": 19,
   "id": "24c68d91",
   "metadata": {},
   "outputs": [],
   "source": [
    "views_deadacc = df.groupby('dead_account')['views'].size().reset_index()"
   ]
  },
  {
   "cell_type": "code",
   "execution_count": 20,
   "id": "92a8ae31",
   "metadata": {},
   "outputs": [
    {
     "data": {
      "text/plain": [
       "<Figure size 576x576 with 0 Axes>"
      ]
     },
     "metadata": {},
     "output_type": "display_data"
    },
    {
     "data": {
      "image/png": "[encoded data removed]",
      "text/plain": [
       "<Figure size 432x288 with 1 Axes>"
      ]
     },
     "metadata": {},
     "output_type": "display_data"
    }
   ],
   "source": [
    "labels = ['Dead Account', 'Not Dead account']\n",
    "colors = ['#ff9999', '#66b3ff']\n",
    "\n",
    "plt.figure(figsize=(8,8))\n",
    "fig, ax = plt.subplots()\n",
    "colors = ['#ff9999', '#66b3ff']\n",
    "ax.pie(views_deadacc['views'], labels=views_deadacc['dead_account'], colors=colors, autopct='%1.1f%%', radius=2,textprops={'fontsize':15})\n",
    "ax.set_title('Views by Dead Account')\n",
    "\n",
    "plt.show()"
   ]
  },
  {
   "cell_type": "markdown",
   "id": "8c75231a",
   "metadata": {},
   "source": [
    "## Можно заметить, что у \"мертвых\" аккаунтов количество просмотров намного больше"
   ]
  },
  {
   "cell_type": "markdown",
   "id": "6ac27343",
   "metadata": {},
   "source": [
    "## Посмотрим на mature и views"
   ]
  },
  {
   "cell_type": "code",
   "execution_count": 21,
   "id": "ea63822b",
   "metadata": {},
   "outputs": [],
   "source": [
    "views_by_mature = df.groupby('mature')['views'].sum()"
   ]
  },
  {
   "cell_type": "code",
   "execution_count": 22,
   "id": "2804110e",
   "metadata": {},
   "outputs": [
    {
     "data": {
      "text/plain": [
       "<Figure size 576x576 with 0 Axes>"
      ]
     },
     "metadata": {},
     "output_type": "display_data"
    },
    {
     "data": {
      "image/png": "[encoded data removed]",
      "text/plain": [
       "<Figure size 432x288 with 1 Axes>"
      ]
     },
     "metadata": {},
     "output_type": "display_data"
    }
   ],
   "source": [
    "labels = ['Not mature', 'Mature']\n",
    "colors = ['#ff9999', '#66b3ff']\n",
    "\n",
    "plt.figure(figsize=(8, 8))\n",
    "fig, ax = plt.subplots()\n",
    "ax.pie(views_by_mature, labels=labels, colors=colors, autopct='%1.1f%%', radius=2, textprops={'fontsize':15})\n",
    "ax.set_title('Views by maturity')\n",
    "\n",
    "plt.show()"
   ]
  },
  {
   "cell_type": "markdown",
   "id": "f56deea4",
   "metadata": {},
   "source": [
    "## Можно заметить, что меньше просмотров у совершеннолетних пользователей"
   ]
  },
  {
   "cell_type": "code",
   "execution_count": 23,
   "id": "40102972",
   "metadata": {},
   "outputs": [
    {
     "data": {
      "text/html": [
       "<div>\n",
       "<style scoped>\n",
       "    .dataframe tbody tr th:only-of-type {\n",
       "        vertical-align: middle;\n",
       "    }\n",
       "\n",
       "    .dataframe tbody tr th {\n",
       "        vertical-align: top;\n",
       "    }\n",
       "\n",
       "    .dataframe thead th {\n",
       "        text-align: right;\n",
       "    }\n",
       "</style>\n",
       "<table border=\"1\" class=\"dataframe\">\n",
       "  <thead>\n",
       "    <tr style=\"text-align: right;\">\n",
       "      <th></th>\n",
       "      <th>views</th>\n",
       "      <th>mature</th>\n",
       "      <th>life_time</th>\n",
       "      <th>numeric_id</th>\n",
       "      <th>dead_account</th>\n",
       "      <th>language</th>\n",
       "      <th>affiliate</th>\n",
       "    </tr>\n",
       "  </thead>\n",
       "  <tbody>\n",
       "    <tr>\n",
       "      <th>0</th>\n",
       "      <td>7879</td>\n",
       "      <td>1</td>\n",
       "      <td>969</td>\n",
       "      <td>0</td>\n",
       "      <td>0</td>\n",
       "      <td>EN</td>\n",
       "      <td>1</td>\n",
       "    </tr>\n",
       "    <tr>\n",
       "      <th>1</th>\n",
       "      <td>500</td>\n",
       "      <td>0</td>\n",
       "      <td>2699</td>\n",
       "      <td>1</td>\n",
       "      <td>0</td>\n",
       "      <td>EN</td>\n",
       "      <td>0</td>\n",
       "    </tr>\n",
       "    <tr>\n",
       "      <th>2</th>\n",
       "      <td>382502</td>\n",
       "      <td>1</td>\n",
       "      <td>3149</td>\n",
       "      <td>2</td>\n",
       "      <td>0</td>\n",
       "      <td>EN</td>\n",
       "      <td>1</td>\n",
       "    </tr>\n",
       "    <tr>\n",
       "      <th>3</th>\n",
       "      <td>386</td>\n",
       "      <td>0</td>\n",
       "      <td>1344</td>\n",
       "      <td>3</td>\n",
       "      <td>0</td>\n",
       "      <td>EN</td>\n",
       "      <td>0</td>\n",
       "    </tr>\n",
       "    <tr>\n",
       "      <th>4</th>\n",
       "      <td>2486</td>\n",
       "      <td>0</td>\n",
       "      <td>1784</td>\n",
       "      <td>4</td>\n",
       "      <td>0</td>\n",
       "      <td>EN</td>\n",
       "      <td>0</td>\n",
       "    </tr>\n",
       "  </tbody>\n",
       "</table>\n",
       "</div>"
      ],
      "text/plain": [
       "    views  mature  life_time  numeric_id  dead_account language  affiliate\n",
       "0    7879       1        969           0             0       EN          1\n",
       "1     500       0       2699           1             0       EN          0\n",
       "2  382502       1       3149           2             0       EN          1\n",
       "3     386       0       1344           3             0       EN          0\n",
       "4    2486       0       1784           4             0       EN          0"
      ]
     },
     "execution_count": 23,
     "metadata": {},
     "output_type": "execute_result"
    }
   ],
   "source": [
    "df.head()"
   ]
  },
  {
   "cell_type": "markdown",
   "id": "d988988e",
   "metadata": {},
   "source": [
    "## Посмотрим на life-time у пользователей"
   ]
  },
  {
   "cell_type": "code",
   "execution_count": 24,
   "id": "7cdc3f1b",
   "metadata": {},
   "outputs": [],
   "source": [
    "dead_accs_views = df.groupby('mature')['views'].size().reset_index()"
   ]
  },
  {
   "cell_type": "code",
   "execution_count": 37,
   "id": "bb9eb0ff",
   "metadata": {},
   "outputs": [
    {
     "data": {
      "text/plain": [
       "<Figure size 1152x360 with 0 Axes>"
      ]
     },
     "metadata": {},
     "output_type": "display_data"
    },
    {
     "data": {
      "image/png": "[encoded data removed]",
      "text/plain": [
       "<Figure size 432x288 with 1 Axes>"
      ]
     },
     "metadata": {},
     "output_type": "display_data"
    }
   ],
   "source": [
    "labels = ['Dead Account', 'Not dead account']\n",
    "colors = ['#ff9999', '#66b3ff']\n",
    "\n",
    "plt.figure(figsize=(16, 5))\n",
    "fig, ax = plt.subplots()\n",
    "ax.pie(dead_accs_views['views'], labels=labels, colors=colors, autopct='%1.1f%%', radius=2, textprops={'fontsize':15})\n",
    "ax.set_title('Mature by dead accounts')\n",
    "\n",
    "plt.show()"
   ]
  },
  {
   "cell_type": "markdown",
   "id": "b84ea519",
   "metadata": {},
   "source": [
    "## Большинство аккаунтов совершеннолетних ушло с площадки"
   ]
  },
  {
   "cell_type": "code",
   "execution_count": 26,
   "id": "1cdc375e",
   "metadata": {},
   "outputs": [
    {
     "data": {
      "text/html": [
       "<div>\n",
       "<style scoped>\n",
       "    .dataframe tbody tr th:only-of-type {\n",
       "        vertical-align: middle;\n",
       "    }\n",
       "\n",
       "    .dataframe tbody tr th {\n",
       "        vertical-align: top;\n",
       "    }\n",
       "\n",
       "    .dataframe thead th {\n",
       "        text-align: right;\n",
       "    }\n",
       "</style>\n",
       "<table border=\"1\" class=\"dataframe\">\n",
       "  <thead>\n",
       "    <tr style=\"text-align: right;\">\n",
       "      <th></th>\n",
       "      <th>views</th>\n",
       "      <th>mature</th>\n",
       "      <th>life_time</th>\n",
       "      <th>numeric_id</th>\n",
       "      <th>dead_account</th>\n",
       "      <th>language</th>\n",
       "      <th>affiliate</th>\n",
       "    </tr>\n",
       "  </thead>\n",
       "  <tbody>\n",
       "    <tr>\n",
       "      <th>0</th>\n",
       "      <td>7879</td>\n",
       "      <td>1</td>\n",
       "      <td>969</td>\n",
       "      <td>0</td>\n",
       "      <td>0</td>\n",
       "      <td>EN</td>\n",
       "      <td>1</td>\n",
       "    </tr>\n",
       "    <tr>\n",
       "      <th>1</th>\n",
       "      <td>500</td>\n",
       "      <td>0</td>\n",
       "      <td>2699</td>\n",
       "      <td>1</td>\n",
       "      <td>0</td>\n",
       "      <td>EN</td>\n",
       "      <td>0</td>\n",
       "    </tr>\n",
       "    <tr>\n",
       "      <th>2</th>\n",
       "      <td>382502</td>\n",
       "      <td>1</td>\n",
       "      <td>3149</td>\n",
       "      <td>2</td>\n",
       "      <td>0</td>\n",
       "      <td>EN</td>\n",
       "      <td>1</td>\n",
       "    </tr>\n",
       "    <tr>\n",
       "      <th>3</th>\n",
       "      <td>386</td>\n",
       "      <td>0</td>\n",
       "      <td>1344</td>\n",
       "      <td>3</td>\n",
       "      <td>0</td>\n",
       "      <td>EN</td>\n",
       "      <td>0</td>\n",
       "    </tr>\n",
       "    <tr>\n",
       "      <th>4</th>\n",
       "      <td>2486</td>\n",
       "      <td>0</td>\n",
       "      <td>1784</td>\n",
       "      <td>4</td>\n",
       "      <td>0</td>\n",
       "      <td>EN</td>\n",
       "      <td>0</td>\n",
       "    </tr>\n",
       "    <tr>\n",
       "      <th>...</th>\n",
       "      <td>...</td>\n",
       "      <td>...</td>\n",
       "      <td>...</td>\n",
       "      <td>...</td>\n",
       "      <td>...</td>\n",
       "      <td>...</td>\n",
       "      <td>...</td>\n",
       "    </tr>\n",
       "    <tr>\n",
       "      <th>168109</th>\n",
       "      <td>4965</td>\n",
       "      <td>0</td>\n",
       "      <td>810</td>\n",
       "      <td>168109</td>\n",
       "      <td>0</td>\n",
       "      <td>EN</td>\n",
       "      <td>0</td>\n",
       "    </tr>\n",
       "    <tr>\n",
       "      <th>168110</th>\n",
       "      <td>4128</td>\n",
       "      <td>1</td>\n",
       "      <td>2080</td>\n",
       "      <td>168110</td>\n",
       "      <td>0</td>\n",
       "      <td>EN</td>\n",
       "      <td>0</td>\n",
       "    </tr>\n",
       "    <tr>\n",
       "      <th>168111</th>\n",
       "      <td>3545</td>\n",
       "      <td>0</td>\n",
       "      <td>1797</td>\n",
       "      <td>168111</td>\n",
       "      <td>0</td>\n",
       "      <td>EN</td>\n",
       "      <td>1</td>\n",
       "    </tr>\n",
       "    <tr>\n",
       "      <th>168112</th>\n",
       "      <td>892736</td>\n",
       "      <td>1</td>\n",
       "      <td>2135</td>\n",
       "      <td>168112</td>\n",
       "      <td>0</td>\n",
       "      <td>EN</td>\n",
       "      <td>0</td>\n",
       "    </tr>\n",
       "    <tr>\n",
       "      <th>168113</th>\n",
       "      <td>791</td>\n",
       "      <td>0</td>\n",
       "      <td>2005</td>\n",
       "      <td>168113</td>\n",
       "      <td>0</td>\n",
       "      <td>EN</td>\n",
       "      <td>0</td>\n",
       "    </tr>\n",
       "  </tbody>\n",
       "</table>\n",
       "<p>168114 rows × 7 columns</p>\n",
       "</div>"
      ],
      "text/plain": [
       "         views  mature  life_time  numeric_id  dead_account language  \\\n",
       "0         7879       1        969           0             0       EN   \n",
       "1          500       0       2699           1             0       EN   \n",
       "2       382502       1       3149           2             0       EN   \n",
       "3          386       0       1344           3             0       EN   \n",
       "4         2486       0       1784           4             0       EN   \n",
       "...        ...     ...        ...         ...           ...      ...   \n",
       "168109    4965       0        810      168109             0       EN   \n",
       "168110    4128       1       2080      168110             0       EN   \n",
       "168111    3545       0       1797      168111             0       EN   \n",
       "168112  892736       1       2135      168112             0       EN   \n",
       "168113     791       0       2005      168113             0       EN   \n",
       "\n",
       "        affiliate  \n",
       "0               1  \n",
       "1               0  \n",
       "2               1  \n",
       "3               0  \n",
       "4               0  \n",
       "...           ...  \n",
       "168109          0  \n",
       "168110          0  \n",
       "168111          1  \n",
       "168112          0  \n",
       "168113          0  \n",
       "\n",
       "[168114 rows x 7 columns]"
      ]
     },
     "execution_count": 26,
     "metadata": {},
     "output_type": "execute_result"
    }
   ],
   "source": [
    "df"
   ]
  },
  {
   "cell_type": "code",
   "execution_count": null,
   "id": "55c04278",
   "metadata": {},
   "outputs": [],
   "source": []
  }
 ],
 "metadata": {
  "kernelspec": {
   "display_name": "Python 3 (ipykernel)",
   "language": "python",
   "name": "python3"
  },
  "language_info": {
   "codemirror_mode": {
    "name": "ipython",
    "version": 3
   },
   "file_extension": ".py",
   "mimetype": "text/x-python",
   "name": "python",
   "nbconvert_exporter": "python",
   "pygments_lexer": "ipython3",
   "version": "3.9.7"
  }
 },
 "nbformat": 4,
 "nbformat_minor": 5
}
